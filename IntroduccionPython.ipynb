{
 "cells": [
  {
   "cell_type": "markdown",
   "id": "b5ce60e8",
   "metadata": {},
   "source": [
    "### NOTA: estos son notebooks de Jupyter, un ambiente de Notebooks para Python de la distribución Anaconda. Es uno de los más comunes. (Dar breve introducción a los notebooks, a Jupyter y hablar del creador de Jupyter).\n",
    "\n",
    "### NOTA IMPORTANTE PARA EXÁMENES: en los exámenes se pedirá que los notebooks se entreguen en formato .ipynb y .html (usando Download as -> Html en Jupyter). Si alguien usa un ambiente diferente a Jupyter (como Colab), es su responsabilidad generar el html que incluya las salidas ejecutadas del código y las gráficas en el entregable (usando por ejemplo el comando \"jupyter nbconvert\" para convertir el ipynb a html) https://stackoverflow.com/questions/76947942/download-jupyter-notebook-ipynb-as-html"
   ]
  },
  {
   "cell_type": "markdown",
   "id": "689b716c",
   "metadata": {},
   "source": [
    "# Introducción a Python\n",
    "Basado en: Curso de Python de University of North Carolina at ChapelHill\n",
    "\n",
    "En este notebook, realizaremos una introducción a los conceptos básicos de Python.\n",
    "\n",
    "Es probable que muchos de ustedes ya conozcan todos estos conceptos introductorios, pero igual vamos a dedicar esta clase a repasarlos para que todos estemos alineados."
   ]
  },
  {
   "cell_type": "markdown",
   "id": "67f0a08c",
   "metadata": {},
   "source": [
    "Primero, empezaremos resolviendo operaciones aritméticas básicas en Python, usando sus funcionalidades de calculadora:"
   ]
  },
  {
   "cell_type": "code",
   "execution_count": 1,
   "id": "59794dc0",
   "metadata": {
    "scrolled": true
   },
   "outputs": [
    {
     "data": {
      "text/plain": [
       "4"
      ]
     },
     "execution_count": 1,
     "metadata": {},
     "output_type": "execute_result"
    }
   ],
   "source": [
    "2+2"
   ]
  },
  {
   "cell_type": "code",
   "execution_count": 2,
   "id": "16a2b27f",
   "metadata": {},
   "outputs": [
    {
     "data": {
      "text/plain": [
       "42"
      ]
     },
     "execution_count": 2,
     "metadata": {},
     "output_type": "execute_result"
    }
   ],
   "source": [
    "6*7"
   ]
  },
  {
   "cell_type": "code",
   "execution_count": 3,
   "id": "d0a4a176",
   "metadata": {
    "scrolled": true
   },
   "outputs": [
    {
     "data": {
      "text/plain": [
       "2.5"
      ]
     },
     "execution_count": 3,
     "metadata": {},
     "output_type": "execute_result"
    }
   ],
   "source": [
    "### Para insertar comentarios, empezar la linea empieza con numeral (#)\n",
    "5/2"
   ]
  },
  {
   "cell_type": "markdown",
   "id": "0dcbe449",
   "metadata": {},
   "source": [
    "###### Ejercicio:\n",
    "\n",
    "¿Cual es la raiz cuadrada de 126544?\n",
    "\n",
    "[//]: # (La respuesta es 355.73)\n",
    "\n",
    "\n",
    "¿Que pasa si divido 5 sobre 0?\n",
    "\n",
    "\n",
    "¿Cuántos segundos hay en un año?\n",
    "\n",
    "[//]: # (Debe salir ZeroDivisionError)\n",
    "\n",
    "E1:"
   ]
  },
  {
   "cell_type": "code",
   "execution_count": 7,
   "id": "530fdb7d",
   "metadata": {},
   "outputs": [
    {
     "data": {
      "text/plain": [
       "355.7302348690648"
      ]
     },
     "execution_count": 7,
     "metadata": {},
     "output_type": "execute_result"
    }
   ],
   "source": [
    "126544**(1/2)"
   ]
  },
  {
   "cell_type": "markdown",
   "id": "ac388365-58c0-48b5-bb3f-fe152bbb4625",
   "metadata": {},
   "source": [
    "E2:"
   ]
  },
  {
   "cell_type": "code",
   "execution_count": 3,
   "id": "c9306960-dd97-4741-b407-38e8ddd19d84",
   "metadata": {},
   "outputs": [
    {
     "ename": "ZeroDivisionError",
     "evalue": "division by zero",
     "output_type": "error",
     "traceback": [
      "\u001b[1;31m---------------------------------------------------------------------------\u001b[0m",
      "\u001b[1;31mZeroDivisionError\u001b[0m                         Traceback (most recent call last)",
      "Cell \u001b[1;32mIn[3], line 1\u001b[0m\n\u001b[1;32m----> 1\u001b[0m \u001b[38;5;241m5\u001b[39m\u001b[38;5;241m/\u001b[39m\u001b[38;5;241m0\u001b[39m\n",
      "\u001b[1;31mZeroDivisionError\u001b[0m: division by zero"
     ]
    }
   ],
   "source": [
    "5/0"
   ]
  },
  {
   "cell_type": "markdown",
   "id": "130d2e5e-a66a-4c26-8146-8d749751a2a2",
   "metadata": {},
   "source": [
    "E3:"
   ]
  },
  {
   "cell_type": "code",
   "execution_count": 4,
   "id": "3c8b4476-2a4f-4b7c-aa7b-8daa8f0d1a06",
   "metadata": {},
   "outputs": [
    {
     "data": {
      "text/plain": [
       "31557600.0"
      ]
     },
     "execution_count": 4,
     "metadata": {},
     "output_type": "execute_result"
    }
   ],
   "source": [
    "60*60*24*(365.25)"
   ]
  },
  {
   "cell_type": "markdown",
   "id": "aeca26b0",
   "metadata": {},
   "source": [
    "### Tipos de variables\n",
    "\n",
    "Python maneja varios distintos tipos de variable. Nos enfocaremos en los más comunes: strings (cadenas) y numéricos.\n",
    "\n",
    "Para asignar el valor a una variable usamos \"=\". No es necesario declarar previamente su tipo como en otros lenguajes (Ej: Java)."
   ]
  },
  {
   "cell_type": "code",
   "execution_count": 4,
   "id": "4fb7b4bf",
   "metadata": {},
   "outputs": [
    {
     "data": {
      "text/plain": [
       "42"
      ]
     },
     "execution_count": 4,
     "metadata": {},
     "output_type": "execute_result"
    }
   ],
   "source": [
    "number = 42\n",
    "number"
   ]
  },
  {
   "cell_type": "code",
   "execution_count": 5,
   "id": "8ca0e9fd",
   "metadata": {},
   "outputs": [
    {
     "data": {
      "text/plain": [
       "'Hello, World'"
      ]
     },
     "execution_count": 5,
     "metadata": {},
     "output_type": "execute_result"
    }
   ],
   "source": [
    "text = \"Hello, World\"\n",
    "text"
   ]
  },
  {
   "cell_type": "markdown",
   "id": "bd401941",
   "metadata": {},
   "source": [
    "La variable \"text\" es un string (cadena), este es el tipo que se usa para textos. Deben usarse comillas simples o dobles para sus valores.\n",
    "\n",
    "Python contiene  muchos tipos distintos de variables numéricas, los principales serían enteros y flotantes.\n",
    "\n",
    "Tener en cuenta que si almaceno un número entre comillas, será un string:"
   ]
  },
  {
   "cell_type": "code",
   "execution_count": 6,
   "id": "02709c5e",
   "metadata": {},
   "outputs": [
    {
     "data": {
      "text/plain": [
       "'42'"
      ]
     },
     "execution_count": 6,
     "metadata": {},
     "output_type": "execute_result"
    }
   ],
   "source": [
    "    notnumber = \"42\"\n",
    "    notnumber"
   ]
  },
  {
   "cell_type": "markdown",
   "id": "1d92a774",
   "metadata": {},
   "source": [
    "Luego de definir un objeto, podemos usarlo para lo que queramos. Por ejemplo, imprimir su valor:"
   ]
  },
  {
   "cell_type": "code",
   "execution_count": 7,
   "id": "cf227e96",
   "metadata": {},
   "outputs": [
    {
     "name": "stdout",
     "output_type": "stream",
     "text": [
      "Hello, World\n"
     ]
    }
   ],
   "source": [
    "    print(text)"
   ]
  },
  {
   "cell_type": "markdown",
   "id": "c299e629",
   "metadata": {},
   "source": [
    "Python permite modificar los contenidos de los objetos de varias formas e incluso cambiar su tipo.\n",
    "Este tipeado dinámico es una de las ventajas de python.\n",
    "Pero hay que tener cuidado en no combinarlos. \n",
    "Por ejemplo:\n"
   ]
  },
  {
   "cell_type": "code",
   "execution_count": 8,
   "id": "7fb34634",
   "metadata": {},
   "outputs": [
    {
     "name": "stdout",
     "output_type": "stream",
     "text": [
      "100\n"
     ]
    }
   ],
   "source": [
    "print(number+58)"
   ]
  },
  {
   "cell_type": "markdown",
   "id": "2aef7c66",
   "metadata": {},
   "source": [
    "Lo anterior funciona bien, pero lo siguiente no:"
   ]
  },
  {
   "cell_type": "code",
   "execution_count": 9,
   "id": "001a720e",
   "metadata": {
    "scrolled": true
   },
   "outputs": [
    {
     "ename": "TypeError",
     "evalue": "unsupported operand type(s) for +: 'int' and 'str'",
     "output_type": "error",
     "traceback": [
      "\u001b[1;31m---------------------------------------------------------------------------\u001b[0m",
      "\u001b[1;31mTypeError\u001b[0m                                 Traceback (most recent call last)",
      "\u001b[1;32m<ipython-input-9-8c1138dd84bf>\u001b[0m in \u001b[0;36m<module>\u001b[1;34m\u001b[0m\n\u001b[1;32m----> 1\u001b[1;33m \u001b[0mprint\u001b[0m\u001b[1;33m(\u001b[0m\u001b[0mnumber\u001b[0m\u001b[1;33m+\u001b[0m\u001b[0mnotnumber\u001b[0m\u001b[1;33m)\u001b[0m\u001b[1;33m\u001b[0m\u001b[1;33m\u001b[0m\u001b[0m\n\u001b[0m",
      "\u001b[1;31mTypeError\u001b[0m: unsupported operand type(s) for +: 'int' and 'str'"
     ]
    }
   ],
   "source": [
    "print(number+notnumber)"
   ]
  },
  {
   "cell_type": "markdown",
   "id": "ab856da3",
   "metadata": {},
   "source": [
    "Esto debido a que notnumber es de tipo string. Sin embargo, si imprimimos el valor de ambos, veremos algo similar:"
   ]
  },
  {
   "cell_type": "code",
   "execution_count": 10,
   "id": "894ec489",
   "metadata": {},
   "outputs": [
    {
     "name": "stdout",
     "output_type": "stream",
     "text": [
      "42\n"
     ]
    }
   ],
   "source": [
    "print(notnumber)"
   ]
  },
  {
   "cell_type": "code",
   "execution_count": 11,
   "id": "d5e3710d",
   "metadata": {},
   "outputs": [
    {
     "name": "stdout",
     "output_type": "stream",
     "text": [
      "42\n"
     ]
    }
   ],
   "source": [
    "print(number)"
   ]
  },
  {
   "cell_type": "markdown",
   "id": "45c78547",
   "metadata": {},
   "source": [
    "A pesar de que los veamos igual al pasar por la funcion print, por dentro son muy diferentes. Miremos su tipo."
   ]
  },
  {
   "cell_type": "code",
   "execution_count": 12,
   "id": "afd43a52",
   "metadata": {},
   "outputs": [
    {
     "data": {
      "text/plain": [
       "int"
      ]
     },
     "execution_count": 12,
     "metadata": {},
     "output_type": "execute_result"
    }
   ],
   "source": [
    "type(number)"
   ]
  },
  {
   "cell_type": "code",
   "execution_count": 13,
   "id": "fde892bd",
   "metadata": {},
   "outputs": [
    {
     "data": {
      "text/plain": [
       "str"
      ]
     },
     "execution_count": 13,
     "metadata": {},
     "output_type": "execute_result"
    }
   ],
   "source": [
    "type(notnumber)"
   ]
  },
  {
   "cell_type": "markdown",
   "id": "eef0adf7",
   "metadata": {},
   "source": [
    "Python permite usar funciones para convertir entre tipos de variables.\n",
    "En este caso, podemos usar la función \"int\", la cual toma un argumento y lo convierte a un tipo entero. Por ejemplo:"
   ]
  },
  {
   "cell_type": "code",
   "execution_count": 14,
   "id": "70b5c449",
   "metadata": {},
   "outputs": [
    {
     "name": "stdout",
     "output_type": "stream",
     "text": [
      "42\n"
     ]
    },
    {
     "data": {
      "text/plain": [
       "int"
      ]
     },
     "execution_count": 14,
     "metadata": {},
     "output_type": "execute_result"
    }
   ],
   "source": [
    "newnumber = int(notnumber)\n",
    "print(newnumber)\n",
    "type(newnumber)"
   ]
  },
  {
   "cell_type": "markdown",
   "id": "ca7ef76d",
   "metadata": {},
   "source": [
    "Ahora si, podemos sumarlos ya que son del mismo tipo."
   ]
  },
  {
   "cell_type": "code",
   "execution_count": 15,
   "id": "a9dd82dc",
   "metadata": {},
   "outputs": [
    {
     "name": "stdout",
     "output_type": "stream",
     "text": [
      "84\n"
     ]
    }
   ],
   "source": [
    "print(number+newnumber)\n"
   ]
  },
  {
   "cell_type": "markdown",
   "id": "b12e575b",
   "metadata": {},
   "source": [
    "Y si quisiera almacenar decimales, tendría que usar tipo flotante:"
   ]
  },
  {
   "cell_type": "code",
   "execution_count": 16,
   "id": "ef90542b",
   "metadata": {
    "scrolled": true
   },
   "outputs": [
    {
     "name": "stdout",
     "output_type": "stream",
     "text": [
      "42.5\n"
     ]
    }
   ],
   "source": [
    "myfloat = newnumber+0.5\n",
    "print(myfloat)\n"
   ]
  },
  {
   "cell_type": "markdown",
   "id": "d215f530",
   "metadata": {},
   "source": [
    "Notar que en el ejemplo anterior sumo un entero con un flotante, y Python permite hacer esta operación sin problemas y sabe que el resultado debe ser un flotante."
   ]
  },
  {
   "cell_type": "markdown",
   "id": "d81d38e0",
   "metadata": {},
   "source": [
    "#### Ejercicios\n",
    "\n",
    "1.  Crear dos variables, \"j\" y \"k\", con valores de 42 y 39\n",
    "2. Calcular su suma y su producto y almacenarlos en nuevas variables.\n",
    "3. Reusar el código del paso 2, pero cambiando el valor asignado a \"k\" y \"j\"."
   ]
  },
  {
   "cell_type": "code",
   "execution_count": 11,
   "id": "1495fdbc",
   "metadata": {},
   "outputs": [
    {
     "name": "stdout",
     "output_type": "stream",
     "text": [
      "42\n",
      "39\n",
      "81\n",
      "1638\n",
      "20\n",
      "10\n",
      "30\n",
      "200\n"
     ]
    }
   ],
   "source": [
    "j = 42\n",
    "k = 39\n",
    "\n",
    "s = j + k\n",
    "p = j*k\n",
    "\n",
    "print(j)\n",
    "print(k)\n",
    "print(s)\n",
    "print(p)\n",
    "\n",
    "j = 20\n",
    "k = 10\n",
    "s = j + k\n",
    "p = j*k\n",
    "\n",
    "print(j)\n",
    "print(k)\n",
    "print(s)\n",
    "print(p)"
   ]
  },
  {
   "cell_type": "markdown",
   "id": "563331cf",
   "metadata": {},
   "source": [
    "### Listas\n",
    "\n",
    "Las listas almacenan múltiples objetos de cualquier tipo. Incluso, una misma lista puede tener objetos de varios tipos, incluidas listas dentro de sí."
   ]
  },
  {
   "cell_type": "code",
   "execution_count": 17,
   "id": "e5cad652",
   "metadata": {},
   "outputs": [
    {
     "name": "stdout",
     "output_type": "stream",
     "text": [
      "[1, 2, 3, 'four', [7, 8, 9]]\n",
      "5\n"
     ]
    }
   ],
   "source": [
    "\n",
    "my_list = [1, 2, 3, \"four\", [7,8,9]]\n",
    "print(my_list)\n",
    "print(len(my_list))"
   ]
  },
  {
   "cell_type": "markdown",
   "id": "970f0f44",
   "metadata": {},
   "source": [
    "También podemos meter objetos definidos previamente en las listas:"
   ]
  },
  {
   "cell_type": "code",
   "execution_count": 18,
   "id": "1e88f180",
   "metadata": {},
   "outputs": [
    {
     "name": "stdout",
     "output_type": "stream",
     "text": [
      "[12, 'cat', ['a', 'b', 'c']]\n"
     ]
    }
   ],
   "source": [
    "obj0 = 12\n",
    "obj1 = \"cat\"\n",
    "obj2 = [\"a\", \"b\", \"c\"]\n",
    "my_list1 = [obj0, obj1, obj2]\n",
    "print(my_list1)"
   ]
  },
  {
   "cell_type": "markdown",
   "id": "1b8f5eeb",
   "metadata": {},
   "source": [
    "Para añadir nuevos elementos a una lista, se usa la función \"append\", la cual modifica directamente la lista creada:"
   ]
  },
  {
   "cell_type": "code",
   "execution_count": 19,
   "id": "58bc7e73",
   "metadata": {},
   "outputs": [
    {
     "name": "stdout",
     "output_type": "stream",
     "text": [
      "[12, 'cat', ['a', 'b', 'c'], 'dog']\n"
     ]
    }
   ],
   "source": [
    "my_list1.append(\"dog\")\n",
    "print(my_list1)\n",
    "# Notar que la modificación se hace inplace  (es decir, se modifica my_list1 sin necesidad de reasignarla)"
   ]
  },
  {
   "cell_type": "markdown",
   "id": "ad54257c",
   "metadata": {},
   "source": [
    "#### Ejercicios\n",
    "\n",
    "1.  Crea una lista que tenga dos objetos: el primero es un color y el segundo otra lista que contiene dos frutas.\n",
    "\n",
    "2.  Luego añadir un tercer elemento a la lista, que sea un número que indica su edad."
   ]
  },
  {
   "cell_type": "code",
   "execution_count": 15,
   "id": "95e6acb2",
   "metadata": {},
   "outputs": [
    {
     "name": "stdout",
     "output_type": "stream",
     "text": [
      "['azul', ['manzana', 'pera']]\n",
      "2\n",
      "['azul', ['manzana', 'pera'], 19]\n",
      "3\n"
     ]
    }
   ],
   "source": [
    "lista = [\"azul\", [\"manzana\", \"pera\"]]\n",
    "print(lista)\n",
    "print(len(lista))\n",
    "\n",
    "lista.append(19)\n",
    "\n",
    "print(lista)\n",
    "print(len(lista))"
   ]
  },
  {
   "cell_type": "markdown",
   "id": "4e0b99fa",
   "metadata": {},
   "source": [
    "### Indexación\n",
    "\n",
    "Las listas de Python conservan el orden en sus elementos, y estas posiciones ordenadas pueden ser usadas para extraer objetos de la lista. Estas posiciones de llaman índices. \n",
    "\n",
    "OJO! Python cuenta desde la posición 0."
   ]
  },
  {
   "cell_type": "code",
   "execution_count": 20,
   "id": "aae7984f",
   "metadata": {},
   "outputs": [
    {
     "name": "stdout",
     "output_type": "stream",
     "text": [
      "gato\n"
     ]
    }
   ],
   "source": [
    "my_list2 = [\"gato\", \"perro\", \"loro\"]\n",
    "print(my_list2[0])\n"
   ]
  },
  {
   "cell_type": "code",
   "execution_count": 21,
   "id": "ee975a02",
   "metadata": {},
   "outputs": [
    {
     "name": "stdout",
     "output_type": "stream",
     "text": [
      "loro\n"
     ]
    }
   ],
   "source": [
    "print(my_list2[2])"
   ]
  },
  {
   "cell_type": "markdown",
   "id": "de3210c8",
   "metadata": {},
   "source": [
    "\n",
    "Cuando tenemos una lista dentro de otra, podemos usar múltiples índices:"
   ]
  },
  {
   "cell_type": "code",
   "execution_count": 22,
   "id": "c6529a36",
   "metadata": {},
   "outputs": [
    {
     "name": "stdout",
     "output_type": "stream",
     "text": [
      "b\n"
     ]
    }
   ],
   "source": [
    "my_list1 = [12, 'cat', ['a', 'b', 'c']]\n",
    "print(my_list1[2][1]) "
   ]
  },
  {
   "cell_type": "markdown",
   "id": "1460d4b3",
   "metadata": {},
   "source": [
    "### Slicing\n",
    "Usando slicing, podemos extraer múltiples objetos de una lista usando la posición inicial y final:"
   ]
  },
  {
   "cell_type": "code",
   "execution_count": 23,
   "id": "6835dd80",
   "metadata": {},
   "outputs": [
    {
     "data": {
      "text/plain": [
       "[12, 'cat']"
      ]
     },
     "execution_count": 23,
     "metadata": {},
     "output_type": "execute_result"
    }
   ],
   "source": [
    "my_list1[0:2] ### empieza en la posición 0 y va hasta la 2, sin incluir la 2 \n"
   ]
  },
  {
   "cell_type": "markdown",
   "id": "c3efe2c2",
   "metadata": {},
   "source": [
    "Ahora, para crear una lista sucesiva de números, podemos usar una lista y la función range:"
   ]
  },
  {
   "cell_type": "code",
   "execution_count": 24,
   "id": "1840a1db",
   "metadata": {},
   "outputs": [
    {
     "data": {
      "text/plain": [
       "[0, 1, 2, 3, 4, 5, 6, 7, 8, 9]"
      ]
     },
     "execution_count": 24,
     "metadata": {},
     "output_type": "execute_result"
    }
   ],
   "source": [
    "list(range(10))"
   ]
  },
  {
   "cell_type": "code",
   "execution_count": 25,
   "id": "86c9f928",
   "metadata": {},
   "outputs": [
    {
     "data": {
      "text/plain": [
       "range(0, 10)"
      ]
     },
     "execution_count": 25,
     "metadata": {},
     "output_type": "execute_result"
    }
   ],
   "source": [
    "range(10)"
   ]
  },
  {
   "cell_type": "markdown",
   "id": "c12a7f65",
   "metadata": {},
   "source": [
    "Las operaciones previas también funcionan con strings, ya que un string en Python es similar a tener una \"lista de caracteres consecutivos\"."
   ]
  },
  {
   "cell_type": "code",
   "execution_count": 26,
   "id": "e35f6835",
   "metadata": {},
   "outputs": [
    {
     "name": "stdout",
     "output_type": "stream",
     "text": [
      "q\n",
      "quick\n"
     ]
    }
   ],
   "source": [
    "my_str = \"The quick brown fox jumps over the lazy dog.\"\n",
    "print(my_str[4])\n",
    "print(my_str[4:9])"
   ]
  },
  {
   "cell_type": "markdown",
   "id": "5c099653",
   "metadata": {},
   "source": [
    "Usar \":\" sin poner un extremo, hará que asuma que va hasta el inicio o final.\n",
    "\n",
    "También se pueden usar números negativos en los extremos."
   ]
  },
  {
   "cell_type": "code",
   "execution_count": 27,
   "id": "cd42efd1",
   "metadata": {},
   "outputs": [
    {
     "name": "stdout",
     "output_type": "stream",
     "text": [
      "dog.\n",
      "The \n",
      "The quick brown fox jumps over the lazy dog.\n"
     ]
    }
   ],
   "source": [
    "print(my_str[-4:])\n",
    "print(my_str[:4])\n",
    "print(my_str[:])"
   ]
  },
  {
   "cell_type": "markdown",
   "id": "d16e146d",
   "metadata": {},
   "source": [
    "#### Ejercicio\n",
    "\n",
    "1.  Intenta obtener el 10 dígito de pi usando índices (ten en cuenta que los índices funcionan con cadenas pero no con numéricos):\n",
    "\n",
    "        my_pi = 3.141592653589793\n",
    "\n",
    "2. La siguiente lista tiene los códigos NATO de cada letra del alfabeto:\n",
    "\n",
    "        nato = [[\"A\", \"Alfa\"],\n",
    "               [\"B\", \"Bravo\"],\n",
    "               [\"C\", \"Charlie\"],\n",
    "               [\"D\", \"Delta\"],\n",
    "               [\"E\", \"Echo\"],\n",
    "               [\"F\", \"Foxtrot\"],\n",
    "               [\"G\", \"Golf\"],\n",
    "               [\"H\", \"Hotel\"],\n",
    "               [\"I\", \"India\"],\n",
    "               [\"J\", \"Juliett\"],\n",
    "               [\"K\", \"Kilo\"],\n",
    "               [\"L\", \"Lima\"],\n",
    "               [\"M\", \"Mike\"],\n",
    "               [\"N\", \"November\"],\n",
    "               [\"O\", \"Oscar\"],\n",
    "               [\"P\", \"Papa\"],\n",
    "               [\"Q\", \"Quebec\"],\n",
    "               [\"R\", \"Romeo\"],\n",
    "               [\"S\", \"Sierra\"],\n",
    "               [\"T\", \"Tango\"],\n",
    "               [\"U\", \"Uniform\"],\n",
    "               [\"V\", \"Victor\"],\n",
    "               [\"W\", \"Whiskey\"],\n",
    "               [\"X\", \"X-ray\"],\n",
    "               [\"Y\", \"Yankee\"],\n",
    "               [\"Z\", \"Zulu\"]]\n",
    "\n",
    "a. Extrae la 15va letra del alfabeto\n",
    "\n",
    "b. Extrae el código para la 23va letra del alfabeto.\n",
    "\n",
    "c. Extraer la 4 letra del código de la octava letra del alfabeto.\n",
    "\n",
    "\n",
    "\n",
    "\n",
    "###### Opcional: \n",
    "Con la siguiente lista de frases:\n",
    "\n",
    "Sentences = [\n",
    "\"I went to The Ohio State University\",\n",
    "\n",
    "\"Add just a bit more.\",\n",
    "\n",
    "\"Cars drive quickly.\",\n",
    "\n",
    "\"He heard yells outside.\",\n",
    "\n",
    "\"What is your name?\",\n",
    "\n",
    "\"Bob was very exasperated.\",\n",
    "\n",
    "\"Give me the keys.\",\n",
    "\n",
    "\"Boy oh boy am I glad to see you!\",\n",
    "\n",
    "\"Students in the hallway whispered loudly.\",\n",
    "\n",
    "\"You're learning Python!\",\n",
    "\n",
    "\"What is the capital of Florida?\",\n",
    "\n",
    "\"We went to the zoo.\"\n",
    "]\n",
    "\n",
    "Crea la frase = \"The boy yells loudly.\" usando solo elementos de esta lista (es decir, sin digitar ninguna palabra ni caracter de la frase en el código).\n",
    "\n",
    "E1:"
   ]
  },
  {
   "cell_type": "code",
   "execution_count": 22,
   "id": "72dbaaf5",
   "metadata": {},
   "outputs": [
    {
     "name": "stdout",
     "output_type": "stream",
     "text": [
      "3\n"
     ]
    }
   ],
   "source": [
    "my_pi\n",
    "\n",
    "print(str(my_pi)[10])"
   ]
  },
  {
   "cell_type": "markdown",
   "id": "55aafc3c-b877-4240-9667-641a4b2bbaaf",
   "metadata": {},
   "source": [
    "E2.a:"
   ]
  },
  {
   "cell_type": "code",
   "execution_count": 28,
   "id": "64b2e0d4-7e5f-45d1-aa5d-c6222beb3b8c",
   "metadata": {},
   "outputs": [
    {
     "name": "stdout",
     "output_type": "stream",
     "text": [
      "O\n"
     ]
    }
   ],
   "source": [
    "nato = [[\"A\", \"Alfa\"],\n",
    "        [\"B\", \"Bravo\"],\n",
    "        [\"C\", \"Charlie\"],\n",
    "        [\"D\", \"Delta\"],\n",
    "        [\"E\", \"Echo\"],\n",
    "        [\"F\", \"Foxtrot\"],\n",
    "        [\"G\", \"Golf\"],\n",
    "        [\"H\", \"Hotel\"],\n",
    "        [\"I\", \"India\"],\n",
    "        [\"J\", \"Juliett\"],\n",
    "        [\"K\", \"Kilo\"],\n",
    "        [\"L\", \"Lima\"],\n",
    "        [\"M\", \"Mike\"],\n",
    "        [\"N\", \"November\"],\n",
    "        [\"O\", \"Oscar\"],\n",
    "        [\"P\", \"Papa\"],\n",
    "        [\"Q\", \"Quebec\"],\n",
    "        [\"R\", \"Romeo\"],\n",
    "        [\"S\", \"Sierra\"],\n",
    "        [\"T\", \"Tango\"],\n",
    "        [\"U\", \"Uniform\"],\n",
    "        [\"V\", \"Victor\"],\n",
    "        [\"W\", \"Whiskey\"],\n",
    "        [\"X\", \"X-ray\"],\n",
    "        [\"Y\", \"Yankee\"],\n",
    "        [\"Z\", \"Zulu\"]]\n",
    "\n",
    "print(nato[14][0])"
   ]
  },
  {
   "cell_type": "markdown",
   "id": "590b4db4-071f-45d8-8f52-5683ee5d3907",
   "metadata": {},
   "source": [
    "E2.b:"
   ]
  },
  {
   "cell_type": "code",
   "execution_count": 29,
   "id": "8e496f7c-e28b-48b3-a347-209ac308aa26",
   "metadata": {},
   "outputs": [
    {
     "name": "stdout",
     "output_type": "stream",
     "text": [
      "Whiskey\n"
     ]
    }
   ],
   "source": [
    "print(nato[22][1])"
   ]
  },
  {
   "cell_type": "markdown",
   "id": "6186220f-1609-4307-9724-d3c57944f57c",
   "metadata": {},
   "source": [
    "E2.c:"
   ]
  },
  {
   "cell_type": "code",
   "execution_count": 30,
   "id": "78854e48-e48c-4a1d-bebf-7fa7de3a7481",
   "metadata": {},
   "outputs": [
    {
     "name": "stdout",
     "output_type": "stream",
     "text": [
      "e\n"
     ]
    }
   ],
   "source": [
    "print(nato[7][1][3])"
   ]
  },
  {
   "cell_type": "markdown",
   "id": "c75d787d-ea59-4fac-b53b-95a332656726",
   "metadata": {},
   "source": [
    "Opcional:"
   ]
  },
  {
   "cell_type": "code",
   "execution_count": 38,
   "id": "e84d4c56-7f8d-4006-9388-1f2f897115e0",
   "metadata": {},
   "outputs": [
    {
     "name": "stdout",
     "output_type": "stream",
     "text": [
      "The boy yells loudly.\n"
     ]
    }
   ],
   "source": [
    "Sentences = [ \"I went to The Ohio State University\",\n",
    "\n",
    "\"Add just a bit more.\",\n",
    "\n",
    "\"Cars drive quickly.\",\n",
    "\n",
    "\"He heard yells outside.\",\n",
    "\n",
    "\"What is your name?\",\n",
    "\n",
    "\"Bob was very exasperated.\",\n",
    "\n",
    "\"Give me the keys.\",\n",
    "\n",
    "\"Boy oh boy am I glad to see you!\",\n",
    "\n",
    "\"Students in the hallway whispered loudly.\",\n",
    "\n",
    "\"You're learning Python!\",\n",
    "\n",
    "\"What is the capital of Florida?\",\n",
    "\n",
    "\"We went to the zoo.\" ]\n",
    "\n",
    "print(Sentences[0][10:14] + Sentences[7][7:11] + Sentences[3][9:15] + Sentences[8][-7:])"
   ]
  },
  {
   "cell_type": "markdown",
   "id": "6fe9293d",
   "metadata": {},
   "source": [
    "### Condicionales y booleanos\n",
    "\n",
    "Los condicionales permiten tener instrucciones flexibles, haciendo así que el comportamiento del código dependa de las entradas que recibe. Algunos condicionales son menor o igual, igual, contenido en, etc.\n",
    "\n",
    "Cuando se evalúa un condicional, se genera un valor Booleano de True o False (su tipo en Python es \"bool\")."
   ]
  },
  {
   "cell_type": "code",
   "execution_count": 28,
   "id": "1029fbb6",
   "metadata": {},
   "outputs": [],
   "source": [
    "num=5"
   ]
  },
  {
   "cell_type": "code",
   "execution_count": 29,
   "id": "06e2d580",
   "metadata": {},
   "outputs": [
    {
     "data": {
      "text/plain": [
       "False"
      ]
     },
     "execution_count": 29,
     "metadata": {},
     "output_type": "execute_result"
    }
   ],
   "source": [
    "num==3"
   ]
  },
  {
   "cell_type": "code",
   "execution_count": 30,
   "id": "9d74e18c",
   "metadata": {
    "scrolled": true
   },
   "outputs": [
    {
     "data": {
      "text/plain": [
       "True"
      ]
     },
     "execution_count": 30,
     "metadata": {},
     "output_type": "execute_result"
    }
   ],
   "source": [
    "num==5"
   ]
  },
  {
   "cell_type": "code",
   "execution_count": 31,
   "id": "ac5b3abf",
   "metadata": {},
   "outputs": [
    {
     "data": {
      "text/plain": [
       "False"
      ]
     },
     "execution_count": 31,
     "metadata": {},
     "output_type": "execute_result"
    }
   ],
   "source": [
    "num not in [2,3,4,5]"
   ]
  },
  {
   "cell_type": "code",
   "execution_count": 32,
   "id": "9cbde27d",
   "metadata": {},
   "outputs": [
    {
     "data": {
      "text/plain": [
       "True"
      ]
     },
     "execution_count": 32,
     "metadata": {},
     "output_type": "execute_result"
    }
   ],
   "source": [
    "letter=\"a\"\n",
    "letter in [\"a\",\"b\",\"c\"]"
   ]
  },
  {
   "cell_type": "markdown",
   "id": "ce8088d5",
   "metadata": {},
   "source": [
    "### Sentencias condicionales\n",
    "\n",
    "Las sentencias condicionales se ejecutan si se cumple una condición. Corresponden a la estructura IF-THEN-ELSE.\n",
    "\n",
    "Tienen esta forma:\n",
    "\n",
    "    if <condition>:\n",
    "        <do something if condition is true>\n",
    "\n",
    "Se pueden poner tantas líneas como se quieran dentro del if, pero todas deben estar \"indentadas\" (sangría). Es necesario indentar estos bloques en Python, ya que no se tienen llaves ni paréntesis para delimitarlos.\n",
    "Se puede indentar con espacio o tabulador, pero hay que ser consistente.\n",
    "\n",
    "Si la condición no se cumple, se puede poner unas secuencias a ejecutar en ese caso, o incluso poner otras condiciones usando un \"elif\".\n",
    "\n",
    "    if <condition1>:\n",
    "        <do something if condition1 is true>\n",
    "    elif <condition2>:\n",
    "        <do a different thing if condition1 is false and condition2 is true>\n",
    "    else\n",
    "        <do a third thing if neither condition is true>\n"
   ]
  },
  {
   "cell_type": "code",
   "execution_count": 33,
   "id": "a55e7119",
   "metadata": {},
   "outputs": [
    {
     "name": "stdout",
     "output_type": "stream",
     "text": [
      "This number is greater than four\n"
     ]
    }
   ],
   "source": [
    "\n",
    "\n",
    "num = 5\n",
    "if num > 4:\n",
    "    print(\"This number is greater than four\")\n",
    "\n"
   ]
  },
  {
   "cell_type": "code",
   "execution_count": 34,
   "id": "03c61491",
   "metadata": {},
   "outputs": [],
   "source": [
    "num = 3\n",
    "if num > 4:\n",
    "    print(\"This number is greater than four\")"
   ]
  },
  {
   "cell_type": "code",
   "execution_count": 35,
   "id": "7b10dca4",
   "metadata": {},
   "outputs": [
    {
     "name": "stdout",
     "output_type": "stream",
     "text": [
      "This number is less than or equal to four\n"
     ]
    }
   ],
   "source": [
    "num = 3\n",
    "if num > 4:\n",
    "    print(\"This number is greater than than four\")\n",
    "else:\n",
    "    print(\"This number is less than or equal to four\")\n",
    "\n"
   ]
  },
  {
   "cell_type": "code",
   "execution_count": 36,
   "id": "cdf8a792",
   "metadata": {},
   "outputs": [
    {
     "name": "stdout",
     "output_type": "stream",
     "text": [
      "This number is greater than or equal to three and less than ten\n"
     ]
    }
   ],
   "source": [
    "num = 8\n",
    "if num < 3:\n",
    "    print(\"This number is less than three\")\n",
    "elif num < 10:\n",
    "    print(\"This number is greater than or equal to three and less than ten\")\n",
    "else:\n",
    "    print(\"This number is greater than or equal to ten\")\n",
    "\n"
   ]
  },
  {
   "cell_type": "markdown",
   "id": "444d7bff",
   "metadata": {},
   "source": [
    "#### Ejercicios\n",
    "\n",
    "1.  Escribe un código que valide si una persona tiene edad suficiente para sacar la licencia de conducción, e imprima si sí puede o no.\n",
    "\n",
    "2. Escribe un condicional que imprima una palabra recibida solo si esta termina con la letra 'e'."
   ]
  },
  {
   "cell_type": "code",
   "execution_count": 43,
   "id": "3487b66c",
   "metadata": {},
   "outputs": [
    {
     "name": "stdout",
     "output_type": "stream",
     "text": [
      "si tiene edad suficiente para sacar la licencia de conducción\n"
     ]
    }
   ],
   "source": [
    "edad = 19\n",
    "if edad < 16:\n",
    "    print(\"no tiene edad suficiente para sacar la licencia de conducción\")\n",
    "else:\n",
    "    print(\"si tiene edad suficiente para sacar la licencia de conducción\")"
   ]
  },
  {
   "cell_type": "markdown",
   "id": "7ec7fb87",
   "metadata": {},
   "source": [
    "### Ciclos \"for\"\n",
    "\n",
    "Un ciclo \"for\" (\"for loop\") nos permite aplicar los mismos comandos a cada elemento de una lista. Así, evitamos repetir el mismo código para cada elemento, como ocurriría a continuación:"
   ]
  },
  {
   "cell_type": "code",
   "execution_count": 37,
   "id": "d7d2c8da",
   "metadata": {},
   "outputs": [
    {
     "name": "stdout",
     "output_type": "stream",
     "text": [
      "26\n"
     ]
    }
   ],
   "source": [
    "sales = [5, 2, 7, 9, 3]\n",
    "total_sales = 0\n",
    "total_sales = total_sales + sales[0]\n",
    "total_sales = total_sales + sales[1]\n",
    "total_sales = total_sales + sales[2]\n",
    "total_sales = total_sales + sales[3]\n",
    "total_sales = total_sales + sales[4]\n",
    "print(total_sales)"
   ]
  },
  {
   "cell_type": "markdown",
   "id": "be3601c9",
   "metadata": {},
   "source": [
    "Un ciclo nos permitirá aplicar más fácilmente la operación anterior (suma) a todos los elementos de la lista.\n",
    "\n",
    "El ciclo en Python tiene la siguiente forma\n",
    "\n",
    "`for <name> in <list>:`\n",
    "\n",
    "        <haga algo para cada paso>\n",
    "\n",
    "-   `<name>` es arbitario, pero se suele poner algo que tenga sentido si es una lista con sentido, o una letra como \"i\" si son números."
   ]
  },
  {
   "cell_type": "code",
   "execution_count": 40,
   "id": "d08f70c0",
   "metadata": {},
   "outputs": [
    {
     "name": "stdout",
     "output_type": "stream",
     "text": [
      "0\n",
      "1\n",
      "2\n",
      "3\n",
      "4\n",
      "5\n"
     ]
    }
   ],
   "source": [
    "my_nums = list(range(6))\n",
    "\n",
    "for n in my_nums:\n",
    "    print(n)"
   ]
  },
  {
   "cell_type": "code",
   "execution_count": 41,
   "id": "2d6bb496",
   "metadata": {},
   "outputs": [
    {
     "name": "stdout",
     "output_type": "stream",
     "text": [
      "26\n"
     ]
    }
   ],
   "source": [
    "# para el ejemplo de sales\n",
    "sumar = 0\n",
    "for i in sales:\n",
    "    sumar = sumar + i\n",
    "    \n",
    "print(sumar)"
   ]
  },
  {
   "cell_type": "markdown",
   "id": "47e3c865",
   "metadata": {},
   "source": [
    "\n",
    "\n",
    "También es común tener un ciclo dentro de otro ciclo (ciclos anidados). Es aquí clave la indentación para controlar el orden de ejecución de los bloques."
   ]
  },
  {
   "cell_type": "code",
   "execution_count": 42,
   "id": "2a848fc4",
   "metadata": {},
   "outputs": [
    {
     "name": "stdout",
     "output_type": "stream",
     "text": [
      "[['azul', 4], ['amarillo', 8], ['rojo', 4], ['verde', 5]]\n"
     ]
    }
   ],
   "source": [
    "#Ciclos anidados\n",
    "listOfWords = [\"azul\", \"amarillo\", \"rojo\", \"verde\"]\n",
    "newList = [] \n",
    "\n",
    "for color in listOfWords:\n",
    "    numLetters = 0 #reseear a cero en cada paso del ciclo exterior\n",
    "    for letter in color:\n",
    "        numLetters += 1\n",
    "    temporaryList = [color, numLetters]\n",
    "    newList.append(temporaryList)\n",
    "\n",
    "print(newList)\n",
    "\n",
    " "
   ]
  },
  {
   "cell_type": "markdown",
   "id": "a79a1a31",
   "metadata": {},
   "source": [
    "#### Ciclos con condicionales\n",
    "\n",
    "Los ciclos son aún más útiles al combinarse con condicionales, para ejecutar diferentes tipos de comandos basado en la iteración actual."
   ]
  },
  {
   "cell_type": "code",
   "execution_count": 43,
   "id": "1658c1e7",
   "metadata": {},
   "outputs": [
    {
     "name": "stdout",
     "output_type": "stream",
     "text": [
      "0\n",
      "2\n",
      "4\n",
      "6\n",
      "8\n"
     ]
    }
   ],
   "source": [
    "## Imprimir los números pares de 0 a 9\n",
    "for number in range(10):\n",
    "    if number % 2 == 0: \n",
    "    # % denota la operación modulo\n",
    "        print(number)"
   ]
  },
  {
   "cell_type": "code",
   "execution_count": 44,
   "id": "8b1224fb",
   "metadata": {},
   "outputs": [
    {
     "name": "stdout",
     "output_type": "stream",
     "text": [
      "[[95, 'A'], [90, 'A'], [66, 'D'], [83, 'B'], [71, 'C'], [78, 'C'], [93, 'A'], [81, 'B'], [87, 'B'], [81, 'B']]\n"
     ]
    }
   ],
   "source": [
    "# Determinar la nota en letra según su puntuación de 1 a 100\n",
    "scores=[95, 90, 66, 83, 71, 78, 93, 81, 87, 81]\n",
    "grades=[]\n",
    "for score in scores:\n",
    "    if score >= 90:\n",
    "        grade = \"A\"\n",
    "    elif score >= 80:\n",
    "        grade = \"B\"\n",
    "    elif score >= 70 and score < 80:\n",
    "        grade = \"C\"\n",
    "    elif score >= 60 and score < 70:\n",
    "        grade = \"D\"\n",
    "    else:\n",
    "        grade = \"F\"\n",
    "    grades.append([score, grade])       \n",
    "print(grades)\n",
    "\n"
   ]
  },
  {
   "cell_type": "markdown",
   "id": "73477e0d",
   "metadata": {},
   "source": [
    "#### Ejercicios\n",
    "\n",
    "\n",
    "1.  Encontrar todos los números entre 1 y 200 que sean divisibles entre 12\n",
    "3.  Usando los códigos NATO que vimos anteriormente, crear una nueva lista que deje solo aquellos que tienen una \"a\" en su nombre.\n",
    "\n",
    "E1:"
   ]
  },
  {
   "cell_type": "code",
   "execution_count": 58,
   "id": "54f9c49e",
   "metadata": {},
   "outputs": [
    {
     "name": "stdout",
     "output_type": "stream",
     "text": [
      "12\n",
      "24\n",
      "36\n",
      "48\n",
      "60\n",
      "72\n",
      "84\n",
      "96\n",
      "108\n",
      "120\n",
      "132\n",
      "144\n",
      "156\n",
      "168\n",
      "180\n",
      "192\n"
     ]
    }
   ],
   "source": [
    "for number in range(1,201):\n",
    "    if number % 12 == 0: \n",
    "    # % denota la operación modulo\n",
    "        print(number)"
   ]
  },
  {
   "cell_type": "markdown",
   "id": "0f016d59-5b23-47fc-9d98-a03f48f27e95",
   "metadata": {},
   "source": [
    "E2:"
   ]
  },
  {
   "cell_type": "code",
   "execution_count": 60,
   "id": "f6f34189-2cd2-44ca-8cd1-74aaaf5505ea",
   "metadata": {},
   "outputs": [
    {
     "name": "stdout",
     "output_type": "stream",
     "text": [
      "[['A', 'Alfa'], ['B', 'Bravo'], ['C', 'Charlie'], ['D', 'Delta'], ['I', 'India'], ['L', 'Lima'], ['O', 'Oscar'], ['P', 'Papa'], ['S', 'Sierra'], ['T', 'Tango'], ['X', 'X-ray'], ['Y', 'Yankee']]\n"
     ]
    }
   ],
   "source": [
    "nato\n",
    "newList = []\n",
    "for code in nato:\n",
    "    if \"a\" in code[1]:\n",
    "        newList.append(code)\n",
    "         \n",
    "print(newList)"
   ]
  },
  {
   "cell_type": "markdown",
   "id": "e553bd1e",
   "metadata": {},
   "source": [
    "### Diccionarios\n",
    "\n",
    "Los diccionarios proveen \"mapeos\": en lugar de índices, usan llaves para relacionar valores. Debido a que usan tablas hash, suelen funcionar mucho más rápido que las listas."
   ]
  },
  {
   "cell_type": "code",
   "execution_count": 45,
   "id": "6340f9be",
   "metadata": {},
   "outputs": [
    {
     "data": {
      "text/plain": [
       "{'curso': 'Modelación y Simulación IV',\n",
       " 'lugar': 'Universidad EAFIT',\n",
       " 'hora': '6pm'}"
      ]
     },
     "execution_count": 45,
     "metadata": {},
     "output_type": "execute_result"
    }
   ],
   "source": [
    "## Creacion diccionario\n",
    "class_dict = {\"curso\":\"Modelación y Simulación IV\", \"lugar\":\"Universidad EAFIT\", \"hora\":\"6pm\"}\n",
    "class_dict"
   ]
  },
  {
   "cell_type": "code",
   "execution_count": 46,
   "id": "5032a171",
   "metadata": {},
   "outputs": [
    {
     "name": "stdout",
     "output_type": "stream",
     "text": [
      "Universidad EAFIT\n"
     ]
    }
   ],
   "source": [
    "### Obtener el valor de una llave usando el diccionario\n",
    "print(class_dict[\"lugar\"])\n"
   ]
  },
  {
   "cell_type": "code",
   "execution_count": 47,
   "id": "5c23a835",
   "metadata": {},
   "outputs": [],
   "source": [
    "# Agregar nueva llave al diccionario\n",
    "class_dict['Semanas de duración'] = 16"
   ]
  },
  {
   "cell_type": "code",
   "execution_count": 48,
   "id": "7d77f5b9",
   "metadata": {},
   "outputs": [
    {
     "data": {
      "text/plain": [
       "{'curso': 'Modelación y Simulación IV',\n",
       " 'lugar': 'Universidad EAFIT',\n",
       " 'hora': '6pm',\n",
       " 'Semanas de duración': 16}"
      ]
     },
     "execution_count": 48,
     "metadata": {},
     "output_type": "execute_result"
    }
   ],
   "source": [
    "class_dict"
   ]
  },
  {
   "cell_type": "markdown",
   "id": "91ca687c",
   "metadata": {},
   "source": [
    "\n",
    "Podemos usar el método .keys() para ver todas las llaves que tiene el diccionario."
   ]
  },
  {
   "cell_type": "code",
   "execution_count": 49,
   "id": "9b9ad55b",
   "metadata": {},
   "outputs": [
    {
     "name": "stdout",
     "output_type": "stream",
     "text": [
      "dict_keys(['curso', 'lugar', 'hora', 'Semanas de duración'])\n"
     ]
    }
   ],
   "source": [
    "print(class_dict.keys())\n"
   ]
  },
  {
   "cell_type": "markdown",
   "id": "15892393",
   "metadata": {},
   "source": [
    "##### Ejercicio:\n",
    "1. Cree un diccionario donde almacene su nombre, su número favorito, su comida favorita.\n",
    "2. Use el diccionario para retornar su comida favorita.\n",
    "3. Agregue al diccionario una llave adicional con el número de mascotas que usted tiene.\n",
    "\n",
    "E1."
   ]
  },
  {
   "cell_type": "code",
   "execution_count": 54,
   "id": "e3e9fcdc",
   "metadata": {},
   "outputs": [
    {
     "name": "stdout",
     "output_type": "stream",
     "text": [
      "{'nombre': 'Samuel', 'número favorito': 17, 'comida favorita': 'ramen'}\n"
     ]
    }
   ],
   "source": [
    "dicc = {\"nombre\":\"Samuel\", \"número favorito\":17, \"comida favorita\":\"ramen\"}\n",
    "print(dicc)"
   ]
  },
  {
   "cell_type": "markdown",
   "id": "0f6b0d6d-4ca7-4bd0-a0a2-7b10e974cc79",
   "metadata": {},
   "source": [
    "E2."
   ]
  },
  {
   "cell_type": "code",
   "execution_count": 55,
   "id": "ba30a5d1-2339-445c-a912-1a4cee91e15d",
   "metadata": {},
   "outputs": [
    {
     "name": "stdout",
     "output_type": "stream",
     "text": [
      "ramen\n"
     ]
    }
   ],
   "source": [
    "print(dicc[\"comida favorita\"])"
   ]
  },
  {
   "cell_type": "markdown",
   "id": "59b56f35-e800-42b3-bc5e-aa38195f89bc",
   "metadata": {},
   "source": [
    "E3."
   ]
  },
  {
   "cell_type": "code",
   "execution_count": 56,
   "id": "b02837e6-7c25-4c6f-8f02-b653bdf9a0a1",
   "metadata": {},
   "outputs": [
    {
     "name": "stdout",
     "output_type": "stream",
     "text": [
      "{'nombre': 'Samuel', 'número favorito': 17, 'comida favorita': 'ramen', 'número de mascotas': 0}\n"
     ]
    }
   ],
   "source": [
    "dicc[\"número de mascotas\"] = 0\n",
    "print(dicc)"
   ]
  },
  {
   "cell_type": "markdown",
   "id": "0d4da2fa",
   "metadata": {},
   "source": [
    "### Comprensiones de lista\n",
    "\n",
    "Python provee atajos para generar listas y diccionarios, los cuales son de gran utilidad: permiten definir estos elementos por comprensión en lugar de por extensión."
   ]
  },
  {
   "cell_type": "code",
   "execution_count": 55,
   "id": "4a5912e7",
   "metadata": {},
   "outputs": [
    {
     "name": "stdout",
     "output_type": "stream",
     "text": [
      "[1, 4, 9, 16, 25, 36, 49, 64, 81, 100, 121, 144, 169, 196, 225]\n",
      "[1, 4, 9, 16, 25, 36, 49, 64, 81, 100, 121, 144, 169, 196, 225]\n"
     ]
    }
   ],
   "source": [
    "### Ciclo for y en cada paso agrego elemento a la lista (lista por \"extension\")\n",
    "squares=[]\n",
    "for n in range(1, 16):\n",
    "    squares.append(n**2)\n",
    "print(squares)\n",
    "\n",
    "## Lista por comprensión\n",
    "squares=[x**2 for x in range(1, 16)]\n",
    "print(squares)"
   ]
  },
  {
   "cell_type": "markdown",
   "id": "23b370b7",
   "metadata": {},
   "source": [
    "Esto también aplica para diccionarios:"
   ]
  },
  {
   "cell_type": "code",
   "execution_count": 56,
   "id": "e97ed149",
   "metadata": {},
   "outputs": [
    {
     "name": "stdout",
     "output_type": "stream",
     "text": [
      "{1: 1, 2: 4, 3: 9, 4: 16, 5: 25, 6: 36, 7: 49, 8: 64, 9: 81, 10: 100, 11: 121, 12: 144, 13: 169, 14: 196, 15: 225}\n"
     ]
    }
   ],
   "source": [
    "squaresdict={k:k**2 for k in range(1, 16)}\n",
    "print(squaresdict)\n",
    "\n"
   ]
  },
  {
   "cell_type": "markdown",
   "id": "a57b756f",
   "metadata": {},
   "source": [
    "\n",
    "\n",
    "Incluso podemos incluir condicionales en una comprensión:"
   ]
  },
  {
   "cell_type": "code",
   "execution_count": 57,
   "id": "6033b94d",
   "metadata": {},
   "outputs": [
    {
     "name": "stdout",
     "output_type": "stream",
     "text": [
      "['the', 'quick', 'brown', 'fox', 'jumped', 'over', 'the', 'lazy', 'dog']\n",
      "['quick', 'brown', 'jumped']\n"
     ]
    }
   ],
   "source": [
    "sentence=\"the quick brown fox jumped over the lazy dog\"\n",
    "sentence=sentence.split(\" \") #Divide una frase en sus palabras\n",
    "print(sentence)\n",
    "print([w for w in sentence if len(w)>4])\n"
   ]
  },
  {
   "cell_type": "markdown",
   "id": "a7dd6959",
   "metadata": {},
   "source": [
    "#### Ejercicio\n",
    "\n",
    "1.  Crea una lista por comprensión para generar todos los números del 1 al 100 que sean divisibles por 7."
   ]
  },
  {
   "cell_type": "code",
   "execution_count": 61,
   "id": "6945baf2",
   "metadata": {},
   "outputs": [
    {
     "name": "stdout",
     "output_type": "stream",
     "text": [
      "[7, 14, 21, 28, 35, 42, 49, 56, 63, 70, 77, 84, 91, 98]\n"
     ]
    }
   ],
   "source": [
    "numList = [x for x in range(1,101) if x%7 == 0]\n",
    "print(numList)"
   ]
  },
  {
   "cell_type": "markdown",
   "id": "a375f0b8",
   "metadata": {},
   "source": [
    "### Paquetes\n",
    "\n",
    "Las librerías o paquetes permiten añadir muchas funcionalidades adicionales a las que tenemos por defecto en python. Usualmente, siempre que creamos un código se utilizan varias librerías para lograr el fin deseado.\n",
    "\n",
    "Para instalar nuevas librerías, ejecutaríamos el comando \"pip install <package name>\" en la terminal. Sin embargo, la distribución Anaconda ya tiene instaladas muchas de las librerías principales que usaremos.\n",
    "\n",
    "Para importar una librería, se usa el comando \"import\" en python. Se puede especificar un \"as\" para ponerle un alias a la librería:"
   ]
  },
  {
   "cell_type": "code",
   "execution_count": 58,
   "id": "c0d9022f",
   "metadata": {
    "scrolled": true
   },
   "outputs": [
    {
     "name": "stdout",
     "output_type": "stream",
     "text": [
      "3.5\n"
     ]
    }
   ],
   "source": [
    "### Importar librería numpy que la usamos para varios procesos numéricos\n",
    "import numpy as np\n",
    "\n",
    "## Usar la librería para calcular el promedio de una lista\n",
    "lista = [1,2,3,4,5,6]\n",
    "print(np.mean(lista))"
   ]
  },
  {
   "cell_type": "markdown",
   "id": "5b046c1d",
   "metadata": {},
   "source": [
    "### Funciones definidas por el usuario\n",
    "\n",
    "A veces es también necesario crear nuestra propia función en python para usarla para muchos procesos:\n",
    "\n",
    "    def <function_name> ( <arguments> ):\n",
    "        <code depending on arguments>\n",
    "        return <value>\n",
    "\n",
    "Por ejemplo, creemos una función para retornar la media de una lista:"
   ]
  },
  {
   "cell_type": "code",
   "execution_count": 59,
   "id": "e4a6c962",
   "metadata": {},
   "outputs": [
    {
     "name": "stdout",
     "output_type": "stream",
     "text": [
      "3.5\n"
     ]
    }
   ],
   "source": [
    "def mean(number_list):\n",
    "    s = sum(number_list)\n",
    "    n = len(number_list)\n",
    "    m = s/n\n",
    "    return m\n",
    "\n",
    "print(mean(lista))"
   ]
  },
  {
   "cell_type": "markdown",
   "id": "7eb2b78c",
   "metadata": {},
   "source": [
    "\n",
    "#### Ejercicio:\n",
    "\n",
    "Crea una función que retorne la mediana de una lista (la mediana es el valor de la posición media si el número de posiciones es impar, o el promedio de las dos posiciones medias si es par).\n",
    "Ayuda: usar \"sorted(<nombre_lista>)\" devuelve la lista ordenada.\n",
    "\n",
    "Probarla con las siguiente listas:\n",
    "\n",
    "lista1 = [1, 5, 7, 2, 8]\n",
    "\n",
    "lista2 = {2, 6, 8, 4, 7, 5]\n",
    "\n",
    "L1."
   ]
  },
  {
   "cell_type": "code",
   "execution_count": 69,
   "id": "23a38c6e",
   "metadata": {},
   "outputs": [
    {
     "name": "stdout",
     "output_type": "stream",
     "text": [
      "5\n"
     ]
    }
   ],
   "source": [
    "def median(lista):\n",
    "    l = len(lista)\n",
    "    if l%2 == 0:\n",
    "        med = (1/2)*(lista[int(l/2-1)] + lista[int(l/2)])\n",
    "    else:\n",
    "        med = lista[math.floor(l/2)]\n",
    "    \n",
    "    return med\n",
    "\n",
    "\n",
    "lista1 = [1, 5, 7, 2, 8]\n",
    "print(median(sorted(lista1)))"
   ]
  },
  {
   "cell_type": "markdown",
   "id": "aaf1d804-d44b-4ecb-bc1d-ba22c33d716f",
   "metadata": {},
   "source": [
    "L2."
   ]
  },
  {
   "cell_type": "code",
   "execution_count": 70,
   "id": "51e5426b-fd87-4163-b34b-d76f27c8c5a0",
   "metadata": {},
   "outputs": [
    {
     "name": "stdout",
     "output_type": "stream",
     "text": [
      "5.5\n"
     ]
    }
   ],
   "source": [
    "lista2 = [2, 6, 8, 4, 7, 5]\n",
    "print(median(sorted(lista2)))"
   ]
  },
  {
   "cell_type": "markdown",
   "id": "15b8d96b",
   "metadata": {},
   "source": [
    "# Ejercicios sugeridos para estudiar:\n",
    "\n",
    "#### 1. Para estudiar y repasar Python, revisar y practicar todos los ejercicios de esta página:\n",
    "\n",
    "https://codingbat.com/python\n"
   ]
  },
  {
   "cell_type": "code",
   "execution_count": 61,
   "id": "ba844f84",
   "metadata": {},
   "outputs": [],
   "source": [
    "#Solucion al ejercicio de make_chocolate de coding bat que es el más complicado: \n",
    "def make_chocolate(small, big, goal):\n",
    "  # Si no tengo sufcientes kilos de chocolate de una vez debo fallar  \n",
    "  if (small+big*5) < goal:\n",
    "    return -1\n",
    "\n",
    "  # Si me sobran barras grandes, usar solo chiquitas de excedente\n",
    "  elif big*5>goal:\n",
    "    if (goal%5)<=small:\n",
    "      return goal%5\n",
    "    else:\n",
    "      # Si las chiquitas no alcanzan, fallo  \n",
    "      return -1\n",
    "  else:\n",
    "    # si no me sobran barras grandes, usar todas y el resto seran chiquitas\n",
    "    return goal-big*5"
   ]
  },
  {
   "cell_type": "markdown",
   "id": "eb1274f1",
   "metadata": {},
   "source": [
    "### Ejercicios de repaso: Introducción Python\n",
    "\n",
    "\n",
    "Además, se dejan aquí un par de ejercicios similares a los de codingbat para practicar:"
   ]
  },
  {
   "cell_type": "markdown",
   "id": "af0d534e",
   "metadata": {},
   "source": [
    "### Ejemplo 1\n",
    "\n",
    "Cree una función que reciba como entrada una lista de enteros. La función debe retornar True si en alguna parte de la lista aparece un 8 seguido inmediatamente de un 9 o viceversa. De lo contrario, retorna False.\n",
    "\n",
    "\n",
    "Ejemplos:\n",
    "\n",
    "funcion([1,2,3,4,8,6] ) -> False\n",
    "\n",
    "funcion([3,8,4,5,3,9,2] ) -> False\n",
    "\n",
    "funcion([3,8,4,5,3,9,2,8,2] ) -> False\n",
    "\n",
    "funcion([3,8,9,5,3,9,2] ) -> True\n",
    "\n",
    "funcion([3,8,4,5,3,9,8,4] ) -> True\n",
    "\n"
   ]
  },
  {
   "cell_type": "markdown",
   "id": "f44aa80a",
   "metadata": {},
   "source": [
    "#### Solución"
   ]
  },
  {
   "cell_type": "code",
   "execution_count": 62,
   "id": "bd9aa813",
   "metadata": {},
   "outputs": [],
   "source": [
    "def funcion(lista_enteros):\n",
    "  for i in range(len(lista_enteros)-1):\n",
    "    if lista_enteros[i]==8:\n",
    "      if lista_enteros[i+1]==9:\n",
    "        return True\n",
    "    if lista_enteros[i]==9:\n",
    "      if lista_enteros[i+1]==8:\n",
    "        return True\n",
    "        \n",
    "  return False"
   ]
  },
  {
   "cell_type": "markdown",
   "id": "e578eb51",
   "metadata": {},
   "source": [
    "Verificar que la función opera de forma correcta."
   ]
  },
  {
   "cell_type": "code",
   "execution_count": 63,
   "id": "32b03734",
   "metadata": {},
   "outputs": [
    {
     "data": {
      "text/plain": [
       "False"
      ]
     },
     "execution_count": 63,
     "metadata": {},
     "output_type": "execute_result"
    }
   ],
   "source": [
    "funcion([1,2,3,4,8,6] )"
   ]
  },
  {
   "cell_type": "code",
   "execution_count": 64,
   "id": "147e2590",
   "metadata": {},
   "outputs": [
    {
     "data": {
      "text/plain": [
       "False"
      ]
     },
     "execution_count": 64,
     "metadata": {},
     "output_type": "execute_result"
    }
   ],
   "source": [
    "funcion([3,8,4,5,3,9,2] )"
   ]
  },
  {
   "cell_type": "code",
   "execution_count": 65,
   "id": "75dc85c4",
   "metadata": {},
   "outputs": [
    {
     "data": {
      "text/plain": [
       "False"
      ]
     },
     "execution_count": 65,
     "metadata": {},
     "output_type": "execute_result"
    }
   ],
   "source": [
    "funcion([3,8,4,5,3,9,2,8,2] ) "
   ]
  },
  {
   "cell_type": "code",
   "execution_count": 66,
   "id": "2635358e",
   "metadata": {},
   "outputs": [
    {
     "data": {
      "text/plain": [
       "True"
      ]
     },
     "execution_count": 66,
     "metadata": {},
     "output_type": "execute_result"
    }
   ],
   "source": [
    "funcion([3,9,9,8,9,4])"
   ]
  },
  {
   "cell_type": "code",
   "execution_count": 67,
   "id": "bb35d9f0",
   "metadata": {},
   "outputs": [
    {
     "data": {
      "text/plain": [
       "True"
      ]
     },
     "execution_count": 67,
     "metadata": {},
     "output_type": "execute_result"
    }
   ],
   "source": [
    "funcion([3,8,4,5,3,9,8,4] )"
   ]
  },
  {
   "cell_type": "markdown",
   "id": "698bb973",
   "metadata": {},
   "source": [
    "### Ejercicio 1"
   ]
  },
  {
   "cell_type": "markdown",
   "id": "ab5c9b5b",
   "metadata": {},
   "source": [
    "Cree una función que reciba como entrada una cadena (string). La función debe retornar True si la cadena contiene tiene la letra \"s\" o \"c\" pero no ambas.\n",
    "\n",
    "La función no debe distinguir entre mayúsculas y minúsculas.\n",
    "\n",
    "Ejemplos:\n",
    "\n",
    "funcion('El carro es verde.') = False\n",
    "\n",
    "funcion('Soy feliz.') = True\n",
    "\n",
    "funcion('¡Genial!') = False\n",
    "\n",
    "funcion('Julia es leal.') = True\n",
    "\n",
    "funcion('Me llamo Camilo.') = True\n",
    "\n",
    "funcion('Mi hermano Noé es alto.') = True"
   ]
  },
  {
   "cell_type": "code",
   "execution_count": 110,
   "id": "1bcdaef5",
   "metadata": {},
   "outputs": [],
   "source": [
    "# Resolver aqui el ejercicio 1\n",
    "def funcion(string):\n",
    "    if (\"s\" in string) or (\"S\" in string) or (\"c\" in string) or (\"C\" in string):\n",
    "        if (\"s\" or \"S\") and (\"c\" or \"C\") in string:\n",
    "            return False\n",
    "        return True\n",
    "    else:\n",
    "        return False"
   ]
  },
  {
   "cell_type": "code",
   "execution_count": 111,
   "id": "e3044f49",
   "metadata": {},
   "outputs": [
    {
     "data": {
      "text/plain": [
       "False"
      ]
     },
     "execution_count": 111,
     "metadata": {},
     "output_type": "execute_result"
    }
   ],
   "source": [
    "funcion('El carro es verde.')"
   ]
  },
  {
   "cell_type": "code",
   "execution_count": 112,
   "id": "7640e4fd-b834-406a-9796-b02b3ca58b9e",
   "metadata": {},
   "outputs": [
    {
     "data": {
      "text/plain": [
       "True"
      ]
     },
     "execution_count": 112,
     "metadata": {},
     "output_type": "execute_result"
    }
   ],
   "source": [
    "funcion('Soy feliz.')"
   ]
  },
  {
   "cell_type": "code",
   "execution_count": 113,
   "id": "ad7e28fa-dd2b-4225-b303-4aff28f8439f",
   "metadata": {},
   "outputs": [
    {
     "data": {
      "text/plain": [
       "False"
      ]
     },
     "execution_count": 113,
     "metadata": {},
     "output_type": "execute_result"
    }
   ],
   "source": [
    "funcion('¡Genial!')"
   ]
  },
  {
   "cell_type": "code",
   "execution_count": 114,
   "id": "ff18ad52-8501-4e38-a008-dec5ebd3b9ea",
   "metadata": {},
   "outputs": [
    {
     "data": {
      "text/plain": [
       "True"
      ]
     },
     "execution_count": 114,
     "metadata": {},
     "output_type": "execute_result"
    }
   ],
   "source": [
    "funcion('Julia es leal.')"
   ]
  },
  {
   "cell_type": "code",
   "execution_count": 115,
   "id": "b1d8d054-af6c-4922-8692-dfcf77a978b2",
   "metadata": {},
   "outputs": [
    {
     "data": {
      "text/plain": [
       "True"
      ]
     },
     "execution_count": 115,
     "metadata": {},
     "output_type": "execute_result"
    }
   ],
   "source": [
    "funcion('Me llamo Camilo.')"
   ]
  },
  {
   "cell_type": "code",
   "execution_count": 116,
   "id": "3bbdd8ae-f368-4702-9e9d-9459da19ba84",
   "metadata": {},
   "outputs": [
    {
     "data": {
      "text/plain": [
       "True"
      ]
     },
     "execution_count": 116,
     "metadata": {},
     "output_type": "execute_result"
    }
   ],
   "source": [
    "funcion('Mi hermano Noé es alto.')"
   ]
  },
  {
   "cell_type": "markdown",
   "id": "d5fb35dd",
   "metadata": {},
   "source": [
    "### Ejercicio 2\n",
    "Cree una función que retorne True si las palabras \"rojo\" y \"azul\" aparecen el mismo número de veces en una cadena. De lo contrario, debe retornar False.\n",
    "\n",
    "Ejemplos:\n",
    "\n",
    "funcion(\"el carro rojo y azul es grande\") -> True\n",
    "\n",
    "funcion(\"rojojazulazulazul\") -> False\n",
    "\n",
    "funcion(\"rojoazul\") -> True\n",
    "\n",
    "funcion(\"azulrojoazulrojo y rojo azul\") -> True"
   ]
  },
  {
   "cell_type": "code",
   "execution_count": 118,
   "id": "948b2ea9",
   "metadata": {},
   "outputs": [],
   "source": [
    "# Resolver aqui el ejercicio 2\n",
    "def funcion(string):\n",
    "    string=string.split(\" \")\n",
    "    countr = 0\n",
    "    countb = 0\n",
    "    for i in string:\n",
    "        if i == \"rojo\":\n",
    "            countr += 1\n",
    "        if i == \"azul\":\n",
    "            countb +=1\n",
    "    if countr == countb:\n",
    "        return True\n",
    "    return False"
   ]
  },
  {
   "cell_type": "code",
   "execution_count": 119,
   "id": "6d05c890",
   "metadata": {},
   "outputs": [
    {
     "data": {
      "text/plain": [
       "True"
      ]
     },
     "execution_count": 119,
     "metadata": {},
     "output_type": "execute_result"
    }
   ],
   "source": [
    "funcion(\"el carro rojo y azul es grande\")"
   ]
  },
  {
   "cell_type": "code",
   "execution_count": 120,
   "id": "8d494424",
   "metadata": {},
   "outputs": [
    {
     "data": {
      "text/plain": [
       "True"
      ]
     },
     "execution_count": 120,
     "metadata": {},
     "output_type": "execute_result"
    }
   ],
   "source": [
    "funcion(\"rojojazulazulazul\")"
   ]
  },
  {
   "cell_type": "code",
   "execution_count": 121,
   "id": "6d4de6b2-0864-4869-97ab-aa303a1b8649",
   "metadata": {},
   "outputs": [
    {
     "data": {
      "text/plain": [
       "True"
      ]
     },
     "execution_count": 121,
     "metadata": {},
     "output_type": "execute_result"
    }
   ],
   "source": [
    "funcion(\"rojoazul\")"
   ]
  },
  {
   "cell_type": "code",
   "execution_count": 122,
   "id": "207fd15e-7862-4e46-8134-ca74bba47578",
   "metadata": {},
   "outputs": [
    {
     "data": {
      "text/plain": [
       "True"
      ]
     },
     "execution_count": 122,
     "metadata": {},
     "output_type": "execute_result"
    }
   ],
   "source": [
    "funcion(\"azulrojoazulrojo y rojo azul\")"
   ]
  },
  {
   "cell_type": "code",
   "execution_count": null,
   "id": "143dec8a-86b9-4926-9c8d-75e9be050d27",
   "metadata": {},
   "outputs": [],
   "source": []
  }
 ],
 "metadata": {
  "kernelspec": {
   "display_name": "Python 3 (ipykernel)",
   "language": "python",
   "name": "python3"
  },
  "language_info": {
   "codemirror_mode": {
    "name": "ipython",
    "version": 3
   },
   "file_extension": ".py",
   "mimetype": "text/x-python",
   "name": "python",
   "nbconvert_exporter": "python",
   "pygments_lexer": "ipython3",
   "version": "3.12.4"
  }
 },
 "nbformat": 4,
 "nbformat_minor": 5
}
