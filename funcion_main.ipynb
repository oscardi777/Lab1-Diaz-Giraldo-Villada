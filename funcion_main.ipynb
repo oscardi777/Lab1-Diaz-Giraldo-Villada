{
 "cells": [
  {
   "cell_type": "code",
   "execution_count": 40,
   "id": "7dca7e0c",
   "metadata": {},
   "outputs": [],
   "source": [
    "def identificador(w):\n",
    "    #codigo para leer la cadena que se encuentra en L\n",
    "    if w == \"aba\":\n",
    "        return True, \"a\", \"b\", \"a\"\n",
    "    else:\n",
    "        return False, \"\", \"\", \"\"\n",
    "\n",
    "def userGame():\n",
    "    print(\"Estas en la funcion de User VS maquina\")\n",
    "    print(\"Por favor ingresa una cadena valida\")\n",
    "    cadena = input(\"Escribe una cadena: \")\n",
    "    if identificador(cadena)[0]:\n",
    "        print(\"La cadena se ha validado correctamente\")\n",
    "        #Codigo para escoger la partision especifica\n",
    "        u, v, x = identificador(cadena)[1:4]  # Extrae directamente los valores\n",
    "        print(\"Se escogerá u =\", u, \";\" , \"v =\", v , \";\" , \"x =\", x)\n",
    "    \n",
    "def replicaGame():\n",
    "    print(\"Estas en la funcion de Replica VS maquina\")\n",
    "    \n",
    "def menu():\n",
    "    while True:\n",
    "        print(\"\\nMenú:\")\n",
    "        print(\"1. User VS la máquina\")\n",
    "        print(\"2. Réplica VS la máquina\")\n",
    "        print(\"3. Salir\")\n",
    "        \n",
    "        opcion = input(\"Elige una opción: \")\n",
    "        \n",
    "        if opcion == \"1\":\n",
    "            print(\"Has elegido jugar contra la máquina.\")\n",
    "            userGame()\n",
    "        elif opcion == \"2\":\n",
    "            print(\"Has elegido la réplica contra la máquina.\")\n",
    "            replicaGame()\n",
    "        elif opcion == \"3\":\n",
    "            print(\"Saliendo del programa...\")\n",
    "            break\n",
    "        else:\n",
    "            print(\"Opción no válida, intenta de nuevo.\")\n",
    "\n"
   ]
  }
 ],
 "metadata": {
  "kernelspec": {
   "display_name": "Python 3 (ipykernel)",
   "language": "python",
   "name": "python3"
  },
  "language_info": {
   "codemirror_mode": {
    "name": "ipython",
    "version": 3
   },
   "file_extension": ".py",
   "mimetype": "text/x-python",
   "name": "python",
   "nbconvert_exporter": "python",
   "pygments_lexer": "ipython3",
   "version": "3.11.8"
  }
 },
 "nbformat": 4,
 "nbformat_minor": 5
}
