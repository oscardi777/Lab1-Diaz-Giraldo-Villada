{
  "cells": [
    {
      "cell_type": "code",
      "execution_count": 7,
      "metadata": {
        "colab": {
          "base_uri": "https://localhost:8080/"
        },
        "id": "ej8d73ihNb8H",
        "outputId": "3f211816-6873-4e58-b671-2adf6663327f"
      },
      "outputs": [
        {
          "name": "stdout",
          "output_type": "stream",
          "text": [
            "Ingrese una cadena de caracteres válida y de largo mayor o igual a 8: aaaabbbbaa\n",
            "La cadena es valida\n"
          ]
        }
      ],
      "source": [
        "import random\n",
        "\n",
        "def cont1a(string, pos):\n",
        "  #Recibe:\n",
        "  # string: una cadena de caracteres 'a' y 'b' y una posición para empezar (0)\n",
        "  #Retorna:\n",
        "  # número de a´s antes de la primera 'b' y la posición en la palabra en la que terminó\n",
        "  cont = 0  # Iniciar contador de a´s\n",
        "  i = pos\n",
        "  for lit in string:\n",
        "    # Actualiza el estado con cada a\n",
        "      if lit == 'a':\n",
        "        cont += 1\n",
        "        i += 1\n",
        "      if lit == 'b': #Cuando aparezca la primera b se sale del ciclo\n",
        "        break\n",
        "  return cont, i\n",
        "\n",
        "def contb(string, pos):\n",
        "  #Recibe:\n",
        "  # string: una cadena de caracteres 'a' y 'b' y una posición para empezar\n",
        "  #Retorna:\n",
        "  # número de a´s antes de la primera 'b' y la posición en la palabra en la que terminó\n",
        "  cont = 0  # Iniciar contador de b´s\n",
        "  i = pos\n",
        "  for lit in string[i:]:\n",
        "    # Actualiza el estado con cada b\n",
        "      if lit == 'b':\n",
        "        cont += 1\n",
        "        i += 1\n",
        "      if lit == 'a': #Cuando aparezca la primera a después de las b´s se sale del ciclo\n",
        "        break\n",
        "  return cont, i\n",
        "\n",
        "def cont2a(string, pos):\n",
        "  #Recibe:\n",
        "  # string: una cadena de caracteres 'a' y 'b' y una posición para empezar\n",
        "  #Retorna:\n",
        "  # número de a´s despues de las b´s\n",
        "  cont = 0  # Iniciar contador de a´s\n",
        "  i = pos\n",
        "  for lit in string[i:]:\n",
        "    # Actualiza el estado con cada a\n",
        "      if lit == 'a':\n",
        "        cont += 1\n",
        "        i += 1\n",
        "      if lit == 'b': # Si vuelve a aparecer otra 'b' se sale del ciclo\n",
        "        return False, 0, 0\n",
        "        break\n",
        "  return True, cont, i\n",
        "\n",
        "\n",
        "# r = random.randint(8,30) # Se escoge un número al azar entre 8 y para que sea el largo de la palabra\n",
        "r = 8\n",
        "string = input(\"Ingrese una cadena de caracteres válida y de largo mayor o igual a \" + str(r) + \": \")\n",
        "\n",
        "num1a= cont1a(string, 0)\n",
        "numb= contb(string, num1a[1])\n",
        "valide= cont2a(string, numb[1])\n",
        "\n",
        "if(valide[0]):\n",
        "  num2a = valide[1]\n",
        "  if (((abs(num1a[0] + numb[0] - num2a))%3 == 0) and (len(string) >= r)):\n",
        "    print(\"La cadena es valida\")\n",
        "  else:\n",
        "    print(\"La cadena no es valida\")\n",
        "else:\n",
        "  print(\"La cadena no es valida\")\n",
        "\n"
      ]
    }
  ],
  "metadata": {
    "colab": {
      "provenance": []
    },
    "kernelspec": {
      "display_name": "Python 3",
      "name": "python3"
    },
    "language_info": {
      "name": "python"
    }
  },
  "nbformat": 4,
  "nbformat_minor": 0
}
