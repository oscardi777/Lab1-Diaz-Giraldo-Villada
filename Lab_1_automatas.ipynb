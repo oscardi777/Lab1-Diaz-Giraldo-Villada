{
  "cells": [
    {
      "cell_type": "code",
      "execution_count": null,
      "metadata": {
        "colab": {
          "base_uri": "https://localhost:8080/"
        },
        "id": "ej8d73ihNb8H",
        "outputId": "9e163c54-e9cf-4d89-fab3-99bb818c5ead"
      },
      "outputs": [
        {
          "ename": "",
          "evalue": "",
          "output_type": "error",
          "traceback": [
            "\u001b[1;31mFailed to start the Kernel. \n",
            "\u001b[1;31mConnection is disposed. \n",
            "\u001b[1;31mView Jupyter <a href='command:jupyter.viewOutput'>log</a> for further details."
          ]
        }
      ],
      "source": [
        "import random\n",
        "\n",
        "def cont1a(string, pos):\n",
        "  #Recibe:\n",
        "  # string: una cadena de caracteres 'a' y 'b' y una posición para empezar (0)\n",
        "  #Retorna:\n",
        "  # número de a´s antes de la primera 'b' y la posición en la palabra en la que terminó\n",
        "  cont = 0  # Iniciar contador de a´s\n",
        "  i = pos\n",
        "  for lit in string:\n",
        "    # Actualiza el estado con cada a\n",
        "      if lit == 'a':\n",
        "        cont += 1\n",
        "        i += 1\n",
        "      if lit == 'b': #Cuando aparezca la primera b se sale del ciclo\n",
        "        break\n",
        "  return cont, i\n",
        "\n",
        "def contb(string, pos):\n",
        "  #Recibe:\n",
        "  # string: una cadena de caracteres 'a' y 'b' y una posición para empezar\n",
        "  #Retorna:\n",
        "  # número de a´s antes de la primera 'b' y la posición en la palabra en la que terminó\n",
        "  cont = 0  # Iniciar contador de b´s\n",
        "  i = pos\n",
        "  for lit in string[i:]:\n",
        "    # Actualiza el estado con cada b\n",
        "      if lit == 'b':\n",
        "        cont += 1\n",
        "        i += 1\n",
        "      if lit == 'a': #Cuando aparezca la primera a después de las b´s se sale del ciclo\n",
        "        break\n",
        "  return cont, i\n",
        "\n",
        "def cont2a(string, pos):\n",
        "  #Recibe:\n",
        "  # string: una cadena de caracteres 'a' y 'b' y una posición para empezar\n",
        "  #Retorna:\n",
        "  # número de a´s despues de las b´s\n",
        "  cont = 0  # Iniciar contador de a´s\n",
        "  i = pos\n",
        "  for lit in string[i:]:\n",
        "    # Actualiza el estado con cada a\n",
        "      if lit == 'a':\n",
        "        cont += 1\n",
        "        i += 1\n",
        "      if lit == 'b': # Si vuelve a aparecer otra 'b' se sale del ciclo\n",
        "        return False, 0, 0\n",
        "        break\n",
        "  return True, cont, i\n",
        "\n",
        "\n",
        "r = random.randint(8,30) # Se escoge un número al azar entre 8 y 30 para que sea el largo mínimo de la palabra\n",
        "string = input(\"Ingrese una cadena de caracteres válida y de largo mayor o igual a \" + str(r) + \": \")\n",
        "\n",
        "num1a= cont1a(string, 0) # Se cuentan el primer grupo de a´s desde el inicio de la palabra\n",
        "numb= cont1a(string, num1a[1]) # Se cuentan el grupo de b´s desde donde terminó la última 'a'\n",
        "valide= cont2a(string, numb[1]) # Se cuentan el segundo grupo de a´s desde donde terminó la ultima 'b'\n",
        "\n",
        "if(valide[0]): # Solo se entra a este if si valide tiene un valor de True, es decir si no apareció ninguna otra 'b'\n",
        "  num2a = cont2a(string,num1a[1])[1]\n",
        "  if (((abs(num1a[0] + numb[0] - num2a))%3 == 0) and (len(string) >= r)): # Se verifica que la palabra cumpla con la condición para pertenecer al lenguaje y que sea del largo requerido\n",
        "    print(\"La cadena es valida\")\n",
        "  else:\n",
        "    if((num1a[0] + numb[0] - num2a)%3 != 0):\n",
        "      print(\"La cadena no es valida por el modulo\")\n",
        "    else:\n",
        "      print(\"La cadena no es valida por el largo\")\n",
        "else:\n",
        "  print(\"La cadena no es valida\")\n",
        "\n"
      ]
    }
  ],
  "metadata": {
    "colab": {
      "provenance": []
    },
    "kernelspec": {
      "display_name": "Python 3",
      "name": "python3"
    },
    "language_info": {
      "name": "python",
      "version": "3.12.9"
    }
  },
  "nbformat": 4,
  "nbformat_minor": 0
}
